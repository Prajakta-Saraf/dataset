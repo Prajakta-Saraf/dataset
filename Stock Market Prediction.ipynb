{
 "cells": [
  {
   "cell_type": "code",
   "execution_count": 1,
   "metadata": {},
   "outputs": [],
   "source": [
    "import numpy as np\n",
    "from datetime import datetime\n",
    "import smtplib\n",
    "import time\n",
    "from selenium import webdriver\n",
    "#For Prediction\n",
    "from sklearn.linear_model import LinearRegression\n",
    "from sklearn import preprocessing, svm\n",
    "from sklearn.model_selection import train_test_split\n",
    "#For Stock Data\n",
    "\n",
    "from iexfinance.stocks import Stock\n",
    "from iexfinance.stocks import get_historical_data"
   ]
  },
  {
   "cell_type": "code",
   "execution_count": 2,
   "metadata": {},
   "outputs": [],
   "source": [
    "#Navigating to the Yahoo stock screener\n"
   ]
  },
  {
   "cell_type": "code",
   "execution_count": 3,
   "metadata": {},
   "outputs": [],
   "source": [
    "def getStocks(n):\n",
    "    driver = webdriver.Chrome(r'C:\\Users\\shrey\\Documents\\chromedriver\\chromedriver_win32\\chromedriver')\n",
    "    url = \"https://finance.yahoo.com/screener/predefined/aggressive_small_caps?offset=0&count=202\"\n",
    "    driver.get(url)\n",
    "    stock_list = []\n",
    "    n += 1\n",
    "    for i in range(1, n):\n",
    "         ticker = driver.find_element_by_xpath('//*[@id = \"scr-res-table\"]/div[1]/table/tbody/tr[' + str(i) +          ']/td[1]/a')\n",
    "    stock_list.append(ticker.text)\n",
    "    driver.quit()\n",
    "    number = 0\n",
    "    for i in stock_list:\n",
    "        print(\"Number: \" + str(number))\n",
    "        try:\n",
    "            predictData(i, 5)\n",
    "        except:\n",
    "            print(\"Stock: \" + i + \" was not predicted\")\n",
    "        number += 1\n",
    "#//*[@id=\"scr-res-table\"]/div[1]/table/tbody/tr[22]/td[1]/a"
   ]
  },
  {
   "cell_type": "code",
   "execution_count": null,
   "metadata": {},
   "outputs": [],
   "source": []
  },
  {
   "cell_type": "code",
   "execution_count": 4,
   "metadata": {},
   "outputs": [],
   "source": [
    "def predictData(stock, days):\n",
    "    print(stock)\n",
    "\n",
    "    start = datetime(2017, 1, 1)\n",
    "    end = datetime.now()\n",
    "\n",
    "    #Outputting the Historical data into a .csv for later use\n",
    "    df = get_historical_data(stock, start=start, end=end, output_format='pandas')\n",
    "    \n",
    "    df['prediction'] = df['close'].shift(-1)\n",
    "    df.dropna(inplace=True)\n",
    "\n",
    "    forecast_time = int(days)\n",
    "\n",
    "    #Predicting the Stock price in the future\n",
    "    X = np.array(df.drop(['prediction'], 1))\n",
    "    Y = np.array(df['prediction'])\n",
    "    X = preprocessing.scale(X)\n",
    "    X_prediction = X[-forecast_time:]\n",
    "    X_train, Y_train, Y_test = cross_validation.train_test_split(\n",
    "        X, Y, test_size=0.5)\n",
    "\n",
    "    #Performing the Regression on the training data\n",
    "    clf = LinearRegression()\n",
    "    clf.fit(X_train, Y_train)\n",
    "    prediction = (clf.predict(X_prediction))\n",
    "\n",
    "    last_row = df.tail(1)\n",
    "    print(last_row['close'])"
   ]
  },
  {
   "cell_type": "code",
   "execution_count": 9,
   "metadata": {},
   "outputs": [
    {
     "name": "stdout",
     "output_type": "stream",
     "text": [
      "Number: 0\n",
      "PFLT\n",
      "Stock: PFLT was not predicted\n"
     ]
    }
   ],
   "source": [
    "if __name__ == '__main__':\n",
    "    getStocks(200)"
   ]
  },
  {
   "cell_type": "code",
   "execution_count": null,
   "metadata": {},
   "outputs": [],
   "source": []
  },
  {
   "cell_type": "code",
   "execution_count": null,
   "metadata": {},
   "outputs": [],
   "source": []
  }
 ],
 "metadata": {
  "kernelspec": {
   "display_name": "Python 3",
   "language": "python",
   "name": "python3"
  },
  "language_info": {
   "codemirror_mode": {
    "name": "ipython",
    "version": 3
   },
   "file_extension": ".py",
   "mimetype": "text/x-python",
   "name": "python",
   "nbconvert_exporter": "python",
   "pygments_lexer": "ipython3",
   "version": "3.8.3"
  }
 },
 "nbformat": 4,
 "nbformat_minor": 4
}
